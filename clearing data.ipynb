{
 "cells": [
  {
   "cell_type": "code",
   "execution_count": 1,
   "metadata": {},
   "outputs": [],
   "source": [
    "import pandas as pd"
   ]
  },
  {
   "cell_type": "code",
   "execution_count": 16,
   "metadata": {},
   "outputs": [],
   "source": [
    "import numpy as np"
   ]
  },
  {
   "cell_type": "code",
   "execution_count": 158,
   "metadata": {},
   "outputs": [],
   "source": [
    "df = pd.read_excel('Номенклатура.xlsx')"
   ]
  },
  {
   "cell_type": "code",
   "execution_count": 10,
   "metadata": {},
   "outputs": [],
   "source": [
    "mang = pd.read_excel('табл по деп.xlsx')"
   ]
  },
  {
   "cell_type": "code",
   "execution_count": 104,
   "metadata": {},
   "outputs": [],
   "source": [
    "pd.set_option('display.max_columns', None)"
   ]
  },
  {
   "cell_type": "code",
   "execution_count": 159,
   "metadata": {},
   "outputs": [],
   "source": [
    "df = df.iloc[3:]\n",
    "df.columns = df.iloc[0]"
   ]
  },
  {
   "cell_type": "code",
   "execution_count": 161,
   "metadata": {},
   "outputs": [],
   "source": [
    "df = df.iloc[1:]"
   ]
  },
  {
   "cell_type": "code",
   "execution_count": 171,
   "metadata": {},
   "outputs": [],
   "source": [
    "df1 = pd.merge(df,\n",
    "               mang,\n",
    "               on ='Редакция',  \n",
    "               how ='inner')"
   ]
  },
  {
   "cell_type": "code",
   "execution_count": 172,
   "metadata": {},
   "outputs": [],
   "source": [
    "df1['Дата посл.тиража'] = df1['Дата посл.тиража'].astype(str)"
   ]
  },
  {
   "cell_type": "code",
   "execution_count": 173,
   "metadata": {},
   "outputs": [],
   "source": [
    "df1 = df1[df1['Дата посл.тиража'] > '2018-01-09']"
   ]
  },
  {
   "cell_type": "code",
   "execution_count": 174,
   "metadata": {},
   "outputs": [],
   "source": [
    "df1.columns = ['ВСЕ_2019 ' + i if ((ix > 11) & (ix < 24)) else i for ix, i in enumerate(df1.columns)]"
   ]
  },
  {
   "cell_type": "code",
   "execution_count": 176,
   "metadata": {},
   "outputs": [],
   "source": [
    "df1.columns = ['ВСЕ_2020 ' + i if ((ix > 23) & (ix < 36)) else i for ix, i in enumerate(df1.columns)]"
   ]
  },
  {
   "cell_type": "code",
   "execution_count": 178,
   "metadata": {},
   "outputs": [],
   "source": [
    "df1.columns = ['РЫНОК_2019 ' + i if ((ix > 35) & (ix < 48)) else i for ix, i in enumerate(df1.columns)]"
   ]
  },
  {
   "cell_type": "code",
   "execution_count": 180,
   "metadata": {},
   "outputs": [],
   "source": [
    "df1.columns = ['РЫНОК_2020 ' + i if ((ix > 47) & (ix < 60)) else i for ix, i in enumerate(df1.columns)]"
   ]
  },
  {
   "cell_type": "code",
   "execution_count": 182,
   "metadata": {},
   "outputs": [],
   "source": [
    "df1.columns = ['ЛАБИРИНТ_2019 ' + i if ((ix > 59) & (ix < 72)) else i for ix, i in enumerate(df1.columns)]"
   ]
  },
  {
   "cell_type": "code",
   "execution_count": 183,
   "metadata": {},
   "outputs": [],
   "source": [
    "df1.columns = ['ЛАБИРИНТ_2020 ' + i if ((ix > 71) & (ix < 84)) else i for ix, i in enumerate(df1.columns)]"
   ]
  },
  {
   "cell_type": "code",
   "execution_count": 185,
   "metadata": {},
   "outputs": [],
   "source": [
    "df1.columns = ['OZON_2019 ' + i if ((ix > 83) & (ix < 96)) else i for ix, i in enumerate(df1.columns)]"
   ]
  },
  {
   "cell_type": "code",
   "execution_count": 186,
   "metadata": {},
   "outputs": [],
   "source": [
    "df1.columns = ['OZON_2020 ' + i if ((ix > 95) & (ix < 108)) else i for ix, i in enumerate(df1.columns)]"
   ]
  },
  {
   "cell_type": "code",
   "execution_count": 188,
   "metadata": {},
   "outputs": [],
   "source": [
    "df1.columns = ['WB_2019 ' + i if ((ix > 107) & (ix < 120)) else i for ix, i in enumerate(df1.columns)]"
   ]
  },
  {
   "cell_type": "code",
   "execution_count": 189,
   "metadata": {},
   "outputs": [],
   "source": [
    "df1.columns = ['WB_2020 ' + i if ((ix > 119) & (ix < 132)) else i for ix, i in enumerate(df1.columns)]"
   ]
  },
  {
   "cell_type": "code",
   "execution_count": 191,
   "metadata": {},
   "outputs": [],
   "source": [
    "df1.columns = ['ЧГ_2019 ' + i if ((ix > 131) & (ix < 144)) else i for ix, i in enumerate(df1.columns)]"
   ]
  },
  {
   "cell_type": "code",
   "execution_count": 192,
   "metadata": {},
   "outputs": [],
   "source": [
    "df1.columns = ['ЧГ_2020 ' + i if ((ix > 143) & (ix < 156)) else i for ix, i in enumerate(df1.columns)]"
   ]
  },
  {
   "cell_type": "code",
   "execution_count": 201,
   "metadata": {},
   "outputs": [],
   "source": [
    "all_2019 = df1.columns.str.startswith('ВСЕ_2019')\n",
    "df1['ВСЕ_2019'] = df1.iloc[:,all_2019].sum(axis=1)"
   ]
  },
  {
   "cell_type": "code",
   "execution_count": 203,
   "metadata": {},
   "outputs": [],
   "source": [
    "all_2020 = df1.columns.str.startswith('ВСЕ_2020')\n",
    "df1['ВСЕ_2020'] = df1.iloc[:,all_2020].sum(axis=1)"
   ]
  },
  {
   "cell_type": "code",
   "execution_count": 205,
   "metadata": {},
   "outputs": [],
   "source": [
    "mark_2019 = df1.columns.str.startswith('РЫНОК_2019')\n",
    "df1['РЫНОК_2019'] = df1.iloc[:,mark_2019].sum(axis=1)"
   ]
  },
  {
   "cell_type": "code",
   "execution_count": 206,
   "metadata": {},
   "outputs": [],
   "source": [
    "mark_2020 = df1.columns.str.startswith('РЫНОК_2020')\n",
    "df1['РЫНОК_2020'] = df1.iloc[:,mark_2020].sum(axis=1)"
   ]
  },
  {
   "cell_type": "code",
   "execution_count": 208,
   "metadata": {},
   "outputs": [],
   "source": [
    "lab_2019 = df1.columns.str.startswith('ЛАБИРИНТ_2019')\n",
    "df1['ЛАБИРИНТ_2019'] = df1.iloc[:,lab_2019].sum(axis=1)"
   ]
  },
  {
   "cell_type": "code",
   "execution_count": 209,
   "metadata": {},
   "outputs": [],
   "source": [
    "lab_2020 = df1.columns.str.startswith('ЛАБИРИНТ_2020')\n",
    "df1['ЛАБИРИНТ_2020'] = df1.iloc[:,lab_2020].sum(axis=1)"
   ]
  },
  {
   "cell_type": "code",
   "execution_count": 211,
   "metadata": {},
   "outputs": [],
   "source": [
    "ozon_2019 = df1.columns.str.startswith('ОЗОН_2019')\n",
    "df1['ОЗОН_2019'] = df1.iloc[:,ozon_2019].sum(axis=1)"
   ]
  },
  {
   "cell_type": "code",
   "execution_count": 212,
   "metadata": {},
   "outputs": [],
   "source": [
    "ozon_2020 = df1.columns.str.startswith('ОЗОН_2020')\n",
    "df1['ОЗОН_2020'] = df1.iloc[:,ozon_2020].sum(axis=1)"
   ]
  },
  {
   "cell_type": "code",
   "execution_count": 214,
   "metadata": {},
   "outputs": [],
   "source": [
    "wb_2019 = df1.columns.str.startswith('WB_2019')\n",
    "df1['WB_2019'] = df1.iloc[:,wb_2019].sum(axis=1)"
   ]
  },
  {
   "cell_type": "code",
   "execution_count": 215,
   "metadata": {},
   "outputs": [],
   "source": [
    "wb_2020 = df1.columns.str.startswith('WB_2020')\n",
    "df1['WB_2020'] = df1.iloc[:,wb_2020].sum(axis=1)"
   ]
  },
  {
   "cell_type": "code",
   "execution_count": 219,
   "metadata": {},
   "outputs": [],
   "source": [
    "ch_2019 = df1.columns.str.startswith('ЧГ_2019')\n",
    "df1['ЧГ_2019'] = df1.iloc[:,ch_2019].sum(axis=1)"
   ]
  },
  {
   "cell_type": "code",
   "execution_count": 217,
   "metadata": {},
   "outputs": [],
   "source": [
    "ch_2020 = df1.columns.str.startswith('ЧГ_2020')\n",
    "df1['ЧГ_2020'] = df1.iloc[:,ch_2020].sum(axis=1)"
   ]
  },
  {
   "cell_type": "code",
   "execution_count": 221,
   "metadata": {},
   "outputs": [],
   "source": [
    "df1.to_excel('Данные по книгам.xlsx')"
   ]
  }
 ],
 "metadata": {
  "kernelspec": {
   "display_name": "Python 3",
   "language": "python",
   "name": "python3"
  },
  "language_info": {
   "codemirror_mode": {
    "name": "ipython",
    "version": 3
   },
   "file_extension": ".py",
   "mimetype": "text/x-python",
   "name": "python",
   "nbconvert_exporter": "python",
   "pygments_lexer": "ipython3",
   "version": "3.7.3"
  }
 },
 "nbformat": 4,
 "nbformat_minor": 2
}
