{
 "cells": [
  {
   "cell_type": "code",
   "execution_count": 1,
   "metadata": {},
   "outputs": [],
   "source": [
    "import pandas as pd\n",
    "import numpy as np"
   ]
  },
  {
   "cell_type": "markdown",
   "metadata": {},
   "source": [
    "- добавить google trends на автора (проверить на 1 авторе руками) \n",
    "- аналоги по боксплотам \n",
    "- поменять ящики ниша/канал и таблицы: психология, медицина, искусство\n",
    "- trends: зубарева, суркова, вагин\n",
    "- сезонность по месяцам прогнать\n",
    "- тренд до/после: книга и дата старта/конца, продажи до/после (регрессия до и после, изменения в коэффициентах)"
   ]
  },
  {
   "cell_type": "code",
   "execution_count": 2,
   "metadata": {},
   "outputs": [
    {
     "name": "stderr",
     "output_type": "stream",
     "text": [
      "C:\\Users\\1\\Anaconda3\\lib\\site-packages\\IPython\\core\\interactiveshell.py:3057: DtypeWarning: Columns (2) have mixed types. Specify dtype option on import or set low_memory=False.\n",
      "  interactivity=interactivity, compiler=compiler, result=result)\n"
     ]
    }
   ],
   "source": [
    "ndata = pd.read_csv('ExportRetail_utf8.csv', sep = ';')"
   ]
  },
  {
   "cell_type": "code",
   "execution_count": 3,
   "metadata": {},
   "outputs": [],
   "source": [
    "df = pd.read_excel('Продвижение.xlsx')"
   ]
  },
  {
   "cell_type": "code",
   "execution_count": 4,
   "metadata": {},
   "outputs": [],
   "source": [
    "i = df['ISBN']\n",
    "i.dropna(inplace = True)"
   ]
  },
  {
   "cell_type": "code",
   "execution_count": 5,
   "metadata": {},
   "outputs": [],
   "source": [
    "pr = ['978-5-17-122673-2', '978-5-271-48520-6', '978-5-17-117233-6']\n",
    "i = i[~i.isin(pr)]"
   ]
  },
  {
   "cell_type": "code",
   "execution_count": 6,
   "metadata": {},
   "outputs": [],
   "source": [
    "i = i.to_numpy(dtype = str)\n",
    "i = np.char.strip(i)"
   ]
  },
  {
   "cell_type": "code",
   "execution_count": 8,
   "metadata": {},
   "outputs": [],
   "source": [
    "ndata1 = ndata[(ndata['Год'] == 2020) & (ndata['Тип_Данных'] != 'Отгрузки')]"
   ]
  },
  {
   "cell_type": "code",
   "execution_count": 7,
   "metadata": {},
   "outputs": [
    {
     "name": "stderr",
     "output_type": "stream",
     "text": [
      "C:\\Users\\1\\Anaconda3\\lib\\site-packages\\ipykernel_launcher.py:1: FutureWarning: elementwise comparison failed; returning scalar instead, but in the future will perform elementwise comparison\n",
      "  \"\"\"Entry point for launching an IPython kernel.\n"
     ]
    }
   ],
   "source": [
    "ndata['Prom'] = ndata['ISBN'].apply(lambda x: 1 if x in i else 0)"
   ]
  },
  {
   "cell_type": "code",
   "execution_count": 9,
   "metadata": {},
   "outputs": [],
   "source": [
    "pd.set_option('display.max_columns', None)"
   ]
  },
  {
   "cell_type": "code",
   "execution_count": 10,
   "metadata": {},
   "outputs": [],
   "source": [
    "books = pd.read_excel('Данные по книгам.xlsx')\n",
    "b1 = books[['Код 1С', 'Ниша', 'Цена базовая', 'Автор', 'Наименование']]"
   ]
  },
  {
   "cell_type": "code",
   "execution_count": 11,
   "metadata": {},
   "outputs": [],
   "source": [
    "b1.columns = ['1C', 'Ниша', 'Цена', 'Автор', 'Название']\n",
    "ndata1.columns = ['1C', 'ISBN', 'EAN', 'Тип_Данных', 'Месяц', 'Год', 'Кол-во', 'Prom']"
   ]
  },
  {
   "cell_type": "code",
   "execution_count": 12,
   "metadata": {},
   "outputs": [],
   "source": [
    "fdata = pd.merge(ndata1,\n",
    "                 b1,\n",
    "                 on = '1C',\n",
    "                 how ='inner')"
   ]
  },
  {
   "cell_type": "code",
   "execution_count": 13,
   "metadata": {},
   "outputs": [],
   "source": [
    "def month(x):\n",
    "    if x in [1,2,3]:\n",
    "        return 1\n",
    "    elif x in [4,5,6]:\n",
    "        return 2\n",
    "    elif x in [7,8,9]:\n",
    "        return 3\n",
    "    elif x in [10,11,12]:\n",
    "        return 4"
   ]
  },
  {
   "cell_type": "code",
   "execution_count": 14,
   "metadata": {},
   "outputs": [],
   "source": [
    "fdata['Квартал'] = fdata['Месяц'].apply(month)"
   ]
  },
  {
   "cell_type": "code",
   "execution_count": 137,
   "metadata": {},
   "outputs": [
    {
     "name": "stdout",
     "output_type": "stream",
     "text": [
      "<class 'pandas.core.frame.DataFrame'>\n",
      "Int64Index: 124196 entries, 0 to 124195\n",
      "Data columns (total 13 columns):\n",
      "1C            124196 non-null object\n",
      "ISBN          124190 non-null object\n",
      "EAN           124175 non-null object\n",
      "Тип_Данных    124196 non-null object\n",
      "Месяц         124196 non-null int64\n",
      "Год           124196 non-null int64\n",
      "Кол-во        124196 non-null int64\n",
      "Prom          124196 non-null int64\n",
      "Ниша          124196 non-null object\n",
      "Цена          124196 non-null float64\n",
      "Автор         124077 non-null object\n",
      "Название      124196 non-null object\n",
      "Квартал       124196 non-null int64\n",
      "dtypes: float64(1), int64(5), object(7)\n",
      "memory usage: 13.3+ MB\n"
     ]
    }
   ],
   "source": [
    "fdata.info()"
   ]
  },
  {
   "cell_type": "code",
   "execution_count": 15,
   "metadata": {},
   "outputs": [],
   "source": [
    "n = pd.read_excel('Ниши.xlsx')\n",
    "n1 = n['Ниши']\n",
    "n1 = n1.to_numpy(dtype = str)"
   ]
  },
  {
   "cell_type": "code",
   "execution_count": 16,
   "metadata": {},
   "outputs": [],
   "source": [
    "fdata['Ниша'] = fdata['Ниша'].apply(lambda x: x if x in n1 else 0)"
   ]
  },
  {
   "cell_type": "code",
   "execution_count": 17,
   "metadata": {},
   "outputs": [],
   "source": [
    "fdata = fdata[fdata['Ниша'] != 0]"
   ]
  },
  {
   "cell_type": "code",
   "execution_count": 18,
   "metadata": {},
   "outputs": [],
   "source": [
    "blog = 'Белоконь,Зубарева,Набокова,Краснова,Доктор Регина,Митрошина,Гандапас,Перл,Столярова,Мока,Енко,Беспятых,Фатеева,Раков,Соболь,Бабанова,Перцева,Доктор Вагин,Постригай,Монова,Суркова'\n",
    "blog = blog.split(',')"
   ]
  },
  {
   "cell_type": "code",
   "execution_count": 19,
   "metadata": {},
   "outputs": [
    {
     "data": {
      "text/plain": [
       "array(['Белоконь', 'Зубарева', 'Набокова', 'Краснова', 'Доктор Регина',\n",
       "       'Митрошина', 'Гандапас', 'Перл', 'Столярова', 'Мока', 'Енко',\n",
       "       'Беспятых', 'Фатеева', 'Раков', 'Соболь', 'Бабанова', 'Перцева',\n",
       "       'Доктор Вагин', 'Постригай', 'Монова', 'Суркова'], dtype='<U13')"
      ]
     },
     "execution_count": 19,
     "metadata": {},
     "output_type": "execute_result"
    }
   ],
   "source": [
    "b = np.array(blog)\n",
    "b"
   ]
  },
  {
   "cell_type": "code",
   "execution_count": 20,
   "metadata": {},
   "outputs": [],
   "source": [
    "fdata = fdata[['ISBN', 'Тип_Данных', 'Месяц', 'Кол-во', 'Prom', 'Ниша', 'Цена', 'Автор', 'Название']]"
   ]
  },
  {
   "cell_type": "code",
   "execution_count": 21,
   "metadata": {},
   "outputs": [],
   "source": [
    "fdata.dropna(subset=['Автор'], inplace=True)"
   ]
  },
  {
   "cell_type": "code",
   "execution_count": 22,
   "metadata": {},
   "outputs": [],
   "source": [
    "fdata['Автор'] = fdata['Автор'].map(lambda x: x.split(' ')[0])"
   ]
  },
  {
   "cell_type": "code",
   "execution_count": 23,
   "metadata": {},
   "outputs": [],
   "source": [
    "fdata['Blog'] = fdata['Автор'].apply(lambda x: 1 if x in b or x == 'Доктор' else 0)"
   ]
  },
  {
   "cell_type": "code",
   "execution_count": 34,
   "metadata": {},
   "outputs": [],
   "source": [
    "fdata.to_excel('regdata.xlsx')"
   ]
  },
  {
   "cell_type": "code",
   "execution_count": 25,
   "metadata": {},
   "outputs": [],
   "source": [
    "vk = pd.read_excel('vkdata.xlsx')"
   ]
  },
  {
   "cell_type": "code",
   "execution_count": 26,
   "metadata": {},
   "outputs": [],
   "source": [
    "fb = pd.read_excel('facebook.xlsx')"
   ]
  },
  {
   "cell_type": "code",
   "execution_count": 26,
   "metadata": {},
   "outputs": [],
   "source": [
    "v1 = vk[vk['Дата создания'] >= '2020']\n",
    "v1 = v1[['Кампания', 'Дата создания']]"
   ]
  },
  {
   "cell_type": "code",
   "execution_count": 70,
   "metadata": {},
   "outputs": [
    {
     "data": {
      "text/html": [
       "<div>\n",
       "<style scoped>\n",
       "    .dataframe tbody tr th:only-of-type {\n",
       "        vertical-align: middle;\n",
       "    }\n",
       "\n",
       "    .dataframe tbody tr th {\n",
       "        vertical-align: top;\n",
       "    }\n",
       "\n",
       "    .dataframe thead th {\n",
       "        text-align: right;\n",
       "    }\n",
       "</style>\n",
       "<table border=\"1\" class=\"dataframe\">\n",
       "  <thead>\n",
       "    <tr style=\"text-align: right;\">\n",
       "      <th></th>\n",
       "      <th>Кампания</th>\n",
       "      <th>Дата создания</th>\n",
       "    </tr>\n",
       "  </thead>\n",
       "  <tbody>\n",
       "    <tr>\n",
       "      <th>0</th>\n",
       "      <td>Бот-Рекомендатор</td>\n",
       "      <td>2020-11-24</td>\n",
       "    </tr>\n",
       "    <tr>\n",
       "      <th>1</th>\n",
       "      <td>Кулинарка (8 книг)</td>\n",
       "      <td>2020-11-23</td>\n",
       "    </tr>\n",
       "    <tr>\n",
       "      <th>2</th>\n",
       "      <td>BTS-маркетинг</td>\n",
       "      <td>2020-11-23</td>\n",
       "    </tr>\n",
       "    <tr>\n",
       "      <th>3</th>\n",
       "      <td>Тюдор</td>\n",
       "      <td>2020-11-23</td>\n",
       "    </tr>\n",
       "    <tr>\n",
       "      <th>4</th>\n",
       "      <td>Спортивные легенды (суммарно 30к на все книги)</td>\n",
       "      <td>2020-11-16</td>\n",
       "    </tr>\n",
       "  </tbody>\n",
       "</table>\n",
       "</div>"
      ],
      "text/plain": [
       "                                         Кампания Дата создания\n",
       "0                                Бот-Рекомендатор    2020-11-24\n",
       "1                              Кулинарка (8 книг)    2020-11-23\n",
       "2                                   BTS-маркетинг    2020-11-23\n",
       "3                                           Тюдор    2020-11-23\n",
       "4  Спортивные легенды (суммарно 30к на все книги)    2020-11-16"
      ]
     },
     "execution_count": 70,
     "metadata": {},
     "output_type": "execute_result"
    }
   ],
   "source": [
    "v1.head()"
   ]
  },
  {
   "cell_type": "code",
   "execution_count": 27,
   "metadata": {},
   "outputs": [],
   "source": [
    "vdata = pd.merge(fdata,\n",
    "                v1,\n",
    "                left_on = 'Автор',\n",
    "                right_on = 'Кампания',\n",
    "                how = 'inner')"
   ]
  },
  {
   "cell_type": "code",
   "execution_count": 28,
   "metadata": {},
   "outputs": [],
   "source": [
    "vdata['Дата создания'] = vdata['Дата создания'].map(lambda x: x.split('-')[1])"
   ]
  },
  {
   "cell_type": "code",
   "execution_count": 29,
   "metadata": {},
   "outputs": [],
   "source": [
    "vdata['Дата создания']= vdata['Дата создания'].map(int)"
   ]
  },
  {
   "cell_type": "code",
   "execution_count": 63,
   "metadata": {},
   "outputs": [],
   "source": [
    "vdata['Camp'] = np.where([vdata['Месяц'] >= vdata['Дата создания']] == True, 1, 0)"
   ]
  },
  {
   "cell_type": "code",
   "execution_count": 65,
   "metadata": {},
   "outputs": [
    {
     "data": {
      "text/plain": [
       "0    2086\n",
       "Name: Camp, dtype: int64"
      ]
     },
     "execution_count": 65,
     "metadata": {},
     "output_type": "execute_result"
    }
   ],
   "source": [
    "vdata['Camp'].value_counts()"
   ]
  },
  {
   "cell_type": "code",
   "execution_count": 32,
   "metadata": {},
   "outputs": [],
   "source": [
    "prdata = vdata[vdata['Месяц'] < vdata['Дата создания']]"
   ]
  },
  {
   "cell_type": "code",
   "execution_count": 72,
   "metadata": {},
   "outputs": [
    {
     "data": {
      "text/plain": [
       "978-5-17-106077-0    47\n",
       "978-5-17-111582-1    40\n",
       "978-5-17-112722-0    38\n",
       "978-5-17-097283-8    30\n",
       "978-5-17-112547-9    27\n",
       "978-5-17-122685-5    14\n",
       "978-5-17-118617-3    13\n",
       "978-5-17-105788-6    12\n",
       "978-5-17-108775-3    10\n",
       "978-5-17-127341-5     6\n",
       "978-5-17-107829-4     4\n",
       "978-5-17-103335-4     3\n",
       "978-5-17-112887-6     2\n",
       "978-5-17-119695-0     1\n",
       "978-5-17-112798-5     1\n",
       "978-5-17-114293-3     1\n",
       "Name: ISBN, dtype: int64"
      ]
     },
     "execution_count": 72,
     "metadata": {},
     "output_type": "execute_result"
    }
   ],
   "source": [
    "prdata['ISBN'].value_counts()"
   ]
  },
  {
   "cell_type": "code",
   "execution_count": 33,
   "metadata": {},
   "outputs": [],
   "source": [
    "postdata = vdata[vdata['Месяц'] >= vdata['Дата создания']]"
   ]
  },
  {
   "cell_type": "code",
   "execution_count": 73,
   "metadata": {},
   "outputs": [
    {
     "data": {
      "text/plain": [
       "978-5-17-107829-4    42\n",
       "978-5-17-108775-3    42\n",
       "978-5-17-114293-3    36\n",
       "978-5-17-119695-0    33\n",
       "978-5-17-112887-6    26\n",
       "978-5-17-118617-3    21\n",
       "978-5-17-112547-9    20\n",
       "978-5-17-112722-0    13\n",
       "978-5-17-112798-5    10\n",
       "978-5-17-105788-6    10\n",
       "978-5-17-106077-0    10\n",
       "978-5-17-127341-5    10\n",
       "978-5-17-111582-1     9\n",
       "978-5-17-097283-8     5\n",
       "978-5-17-122685-5     4\n",
       "978-5-17-103335-4     1\n",
       "Name: ISBN, dtype: int64"
      ]
     },
     "execution_count": 73,
     "metadata": {},
     "output_type": "execute_result"
    }
   ],
   "source": [
    "postdata['ISBN'].value_counts()"
   ]
  },
  {
   "cell_type": "code",
   "execution_count": 24,
   "metadata": {},
   "outputs": [],
   "source": [
    "regdata = regdata[['ISBN', 'Тип_Данных', 'Месяц', 'Год', 'Кол-во', 'Prom', 'Автор', 'Цена (100 % прайс)']]"
   ]
  },
  {
   "cell_type": "code",
   "execution_count": 74,
   "metadata": {},
   "outputs": [],
   "source": [
    "x = prdata['ISBN']\n",
    "x = x.to_numpy(dtype = str)\n",
    "y = postdata['ISBN']\n",
    "y = y.to_numpy(dtype = str)"
   ]
  },
  {
   "cell_type": "code",
   "execution_count": 75,
   "metadata": {},
   "outputs": [],
   "source": [
    "x = list(x)\n",
    "y = list(y)"
   ]
  },
  {
   "cell_type": "code",
   "execution_count": 76,
   "metadata": {},
   "outputs": [],
   "source": [
    "n = []\n",
    "\n",
    "for book in x:\n",
    "    if book in y:\n",
    "        n.append(book)"
   ]
  },
  {
   "cell_type": "code",
   "execution_count": 77,
   "metadata": {},
   "outputs": [],
   "source": [
    "n = list(dict.fromkeys(n))"
   ]
  },
  {
   "cell_type": "code",
   "execution_count": 78,
   "metadata": {},
   "outputs": [],
   "source": [
    "prdata = prdata[prdata['ISBN'].isin(n)]"
   ]
  },
  {
   "cell_type": "code",
   "execution_count": 79,
   "metadata": {},
   "outputs": [],
   "source": [
    "postdata = postdata[postdata['ISBN'].isin(n)]"
   ]
  },
  {
   "cell_type": "code",
   "execution_count": 88,
   "metadata": {},
   "outputs": [],
   "source": [
    "postdata.to_excel('aprom.xlsx')\n",
    "prdata.to_excel('bprom.xlsx')"
   ]
  },
  {
   "cell_type": "code",
   "execution_count": 80,
   "metadata": {},
   "outputs": [],
   "source": [
    "do = prdata.groupby(by='ISBN')['Кол-во'].sum()\n",
    "do.to_excel('do.xlsx')"
   ]
  },
  {
   "cell_type": "code",
   "execution_count": 81,
   "metadata": {},
   "outputs": [],
   "source": [
    "posle = postdata.groupby(by='ISBN')['Кол-во'].sum()\n",
    "posle.to_excel('posle.xlsx')"
   ]
  },
  {
   "cell_type": "code",
   "execution_count": 162,
   "metadata": {},
   "outputs": [],
   "source": [
    "prod = fdata[fdata['Prom'] == 1]"
   ]
  },
  {
   "cell_type": "code",
   "execution_count": 163,
   "metadata": {},
   "outputs": [],
   "source": [
    "prod = prod.groupby(by=['Автор', 'Название', 'Квартал', 'Тип_Данных'])['Кол-во'].sum().unstack()"
   ]
  },
  {
   "cell_type": "code",
   "execution_count": 164,
   "metadata": {},
   "outputs": [],
   "source": [
    "prod.fillna(0, inplace = True)"
   ]
  },
  {
   "cell_type": "code",
   "execution_count": 109,
   "metadata": {},
   "outputs": [],
   "source": [
    "#prod.reset_index(inplace=True)"
   ]
  },
  {
   "cell_type": "code",
   "execution_count": 110,
   "metadata": {},
   "outputs": [],
   "source": [
    "#prod[[\"Book24\", \"Ozon\", \"WildBerries\", \"Лабиринт\", \"ЧитайГород\"]] = prod[[\"Book24\", \"Ozon\", \"WildBerries\", \"Лабиринт\", \"ЧитайГород\"]].apply(pd.to_numeric)"
   ]
  },
  {
   "cell_type": "code",
   "execution_count": 167,
   "metadata": {},
   "outputs": [],
   "source": [
    "prod['Интернет-магазины'] = prod['Book24'] + prod['Ozon'] + prod['WildBerries'] + prod['Лабиринт']\n",
    "prod['ЧГ и Буквоед'] = prod['Буквоед'] + prod['ЧитайГород']"
   ]
  },
  {
   "cell_type": "code",
   "execution_count": 168,
   "metadata": {},
   "outputs": [],
   "source": [
    "dataprod = prod.sort_values(by='Интернет-магазины', ascending=False)\n",
    "dataprod.to_excel('Проекты_продвижения.xlsx')"
   ]
  },
  {
   "cell_type": "code",
   "execution_count": 62,
   "metadata": {},
   "outputs": [],
   "source": [
    "#fdata.groupby(by=['Ниша', 'Квартал', 'Тип_Данных'])['Кол-во'].median()"
   ]
  },
  {
   "cell_type": "code",
   "execution_count": 61,
   "metadata": {},
   "outputs": [],
   "source": [
    "#pd.pivot_table(fdata, values=['Кол-во'], index=['Ниша','Квартал', 'Тип_Данных'],\n",
    "                    #columns=['Prom'], aggfunc={'Кол-во':np.median}, fill_value=0).unstack(level=-1)"
   ]
  }
 ],
 "metadata": {
  "kernelspec": {
   "display_name": "Python 3",
   "language": "python",
   "name": "python3"
  },
  "language_info": {
   "codemirror_mode": {
    "name": "ipython",
    "version": 3
   },
   "file_extension": ".py",
   "mimetype": "text/x-python",
   "name": "python",
   "nbconvert_exporter": "python",
   "pygments_lexer": "ipython3",
   "version": "3.7.3"
  }
 },
 "nbformat": 4,
 "nbformat_minor": 2
}
