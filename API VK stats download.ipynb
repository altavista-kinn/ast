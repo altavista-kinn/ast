{
 "cells": [
  {
   "cell_type": "code",
   "execution_count": 7,
   "metadata": {},
   "outputs": [],
   "source": [
    "import vk\n",
    "from time import sleep\n",
    "import pandas as pd"
   ]
  },
  {
   "cell_type": "code",
   "execution_count": 2,
   "metadata": {},
   "outputs": [],
   "source": [
    "#сюда вводить токен в кавычках\n",
    "token = ''"
   ]
  },
  {
   "cell_type": "code",
   "execution_count": 3,
   "metadata": {},
   "outputs": [],
   "source": [
    "session = vk.Session(access_token = token) \n",
    "api = vk.API(session)"
   ]
  },
  {
   "cell_type": "code",
   "execution_count": 30,
   "metadata": {},
   "outputs": [],
   "source": [
    "# сюда id группы в кавычках\n",
    "group = ''\n",
    "# сюда численный id группы со знаком - перед цифрами, узнать можно тут https://regvk.com/id/\n",
    "group1 = -"
   ]
  },
  {
   "cell_type": "code",
   "execution_count": 17,
   "metadata": {},
   "outputs": [],
   "source": [
    "# first 100\n",
    "res = api.wall.get(domain = group, count = 100, v = 5.126)\n",
    "items = res['items']\n",
    "\n",
    "ids = []\n",
    "\n",
    "for item in items:\n",
    "    L = [item['id'], item['date']]\n",
    "    ids.append(L) "
   ]
  },
  {
   "cell_type": "code",
   "execution_count": 18,
   "metadata": {},
   "outputs": [],
   "source": [
    "for i in range(1, 7):\n",
    "    res2 = api.wall.get(domain = group, count = 100, offset = 100 * i, v = 5.126)\n",
    "    items2 = res2['items']\n",
    "    items.extend(items2)\n",
    "    sleep(0.5)"
   ]
  },
  {
   "cell_type": "code",
   "execution_count": 19,
   "metadata": {},
   "outputs": [],
   "source": [
    "for item in items:\n",
    "    L = [item['id'], item['date']]\n",
    "    ids.append(L)"
   ]
  },
  {
   "cell_type": "code",
   "execution_count": 47,
   "metadata": {},
   "outputs": [],
   "source": [
    "df = pd.DataFrame(ids)\n",
    "df.columns = ['ids', 'time']"
   ]
  },
  {
   "cell_type": "code",
   "execution_count": 98,
   "metadata": {},
   "outputs": [],
   "source": [
    "posts = df['ids']"
   ]
  },
  {
   "cell_type": "code",
   "execution_count": 99,
   "metadata": {},
   "outputs": [],
   "source": [
    "posts = pd.DataFrame(posts)"
   ]
  },
  {
   "cell_type": "code",
   "execution_count": 100,
   "metadata": {},
   "outputs": [],
   "source": [
    "def split_dataframe(df, chunk_size = 30): \n",
    "    chunks = list()\n",
    "    num_chunks = len(df) // chunk_size + 1\n",
    "    for i in range(num_chunks):\n",
    "        chunks.append(df[i*chunk_size:(i+1)*chunk_size])\n",
    "    return chunks"
   ]
  },
  {
   "cell_type": "code",
   "execution_count": 107,
   "metadata": {},
   "outputs": [],
   "source": [
    "dfs = split_dataframe(posts)"
   ]
  },
  {
   "cell_type": "code",
   "execution_count": 114,
   "metadata": {},
   "outputs": [],
   "source": [
    "lst = []\n",
    "for i in dfs:\n",
    "    lst.append(list(i['ids']))"
   ]
  },
  {
   "cell_type": "code",
   "execution_count": 129,
   "metadata": {},
   "outputs": [],
   "source": [
    "exm = lst[0]\n",
    "st = api.stats.getPostReach(owner_id = group1, post_ids = exm, v = 5.126)\n",
    "new_dict = {item['post_id']:item for item in st}"
   ]
  },
  {
   "cell_type": "code",
   "execution_count": 134,
   "metadata": {},
   "outputs": [],
   "source": [
    "data = []\n",
    "for i in lst:\n",
    "    stats = api.stats.getPostReach(owner_id = group1, post_ids = i, v = 5.126)\n",
    "    new_dict = {item['post_id']:item for item in stats}\n",
    "    res = new_dict.values()\n",
    "    data.extend(res)"
   ]
  },
  {
   "cell_type": "code",
   "execution_count": 135,
   "metadata": {},
   "outputs": [],
   "source": [
    "reach = []\n",
    "for item in data:\n",
    "    l = [item['reach_subscribers'], item['reach_total'], item['reach_ads'],\n",
    "        item['reach_viral'], item['links']]\n",
    "    reach.append(l)"
   ]
  },
  {
   "cell_type": "code",
   "execution_count": 138,
   "metadata": {},
   "outputs": [],
   "source": [
    "columns = ['reach_subscribers', 'reach_total', 'reach_ads', 'reach_viral', 'links']\n",
    "ndata = pd.DataFrame(reach, columns = columns)"
   ]
  },
  {
   "cell_type": "code",
   "execution_count": 148,
   "metadata": {},
   "outputs": [],
   "source": [
    "dfs = [df,ndata]\n",
    "ndata1 = pd.concat(dfs, axis=1)"
   ]
  },
  {
   "cell_type": "code",
   "execution_count": 153,
   "metadata": {},
   "outputs": [],
   "source": [
    "# timestamp 01.01.2020 1577865600\n",
    "df = ndata1.drop(ndata1['time'] < 1577865600, errors='ignore') #удалить лишние посты (до 1 января 2020 года)"
   ]
  },
  {
   "cell_type": "code",
   "execution_count": 155,
   "metadata": {},
   "outputs": [],
   "source": [
    "df.to_csv('vkdata.csv')"
   ]
  }
 ],
 "metadata": {
  "kernelspec": {
   "display_name": "Python 3",
   "language": "python",
   "name": "python3"
  },
  "language_info": {
   "codemirror_mode": {
    "name": "ipython",
    "version": 3
   },
   "file_extension": ".py",
   "mimetype": "text/x-python",
   "name": "python",
   "nbconvert_exporter": "python",
   "pygments_lexer": "ipython3",
   "version": "3.7.3"
  }
 },
 "nbformat": 4,
 "nbformat_minor": 2
}
